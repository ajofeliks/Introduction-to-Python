{
  "nbformat": 4,
  "nbformat_minor": 0,
  "metadata": {
    "colab": {
      "name": "Untitled1.ipynb",
      "provenance": []
    },
    "kernelspec": {
      "name": "python3",
      "display_name": "Python 3"
    },
    "language_info": {
      "name": "python"
    }
  },
  "cells": [
    {
      "cell_type": "code",
      "execution_count": 4,
      "metadata": {
        "id": "Pd37vtezzWjV"
      },
      "outputs": [],
      "source": [
        "x=20"
      ]
    },
    {
      "cell_type": "code",
      "source": [
        "if x>10 :\n",
        "  print(\"x>10\")"
      ],
      "metadata": {
        "colab": {
          "base_uri": "https://localhost:8080/"
        },
        "id": "JMTeniTG0UJk",
        "outputId": "e0e75a1b-b69d-4a3c-f78c-28d75c7b30a3"
      },
      "execution_count": 6,
      "outputs": [
        {
          "output_type": "stream",
          "name": "stdout",
          "text": [
            "x>10\n"
          ]
        }
      ]
    },
    {
      "cell_type": "code",
      "source": [
        "x=20"
      ],
      "metadata": {
        "id": "ZP3j1YO909Fh"
      },
      "execution_count": 8,
      "outputs": []
    },
    {
      "cell_type": "code",
      "source": [
        "if x>10 :\n",
        "  print(\"x is greater than 10\")\n",
        "if x<10 :\n",
        "    print(\"x is less than 10\")\n",
        "if x==10 :\n",
        "  print(\"x is egual to 100\")"
      ],
      "metadata": {
        "colab": {
          "base_uri": "https://localhost:8080/"
        },
        "id": "Rzzvn5Zy3U_X",
        "outputId": "bfaaea27-9681-423a-c6f7-2213a4eaa4ea"
      },
      "execution_count": 13,
      "outputs": [
        {
          "output_type": "stream",
          "name": "stdout",
          "text": [
            "x is greater than 10\n"
          ]
        }
      ]
    },
    {
      "cell_type": "code",
      "source": [
        "x=20"
      ],
      "metadata": {
        "id": "d7bDIP523vbh"
      },
      "execution_count": 11,
      "outputs": []
    },
    {
      "cell_type": "code",
      "source": [
        "x=int(input(\"enter your marks \"))\n",
        "if x>100 :\n",
        "  print(\"outstanding\")\n",
        "if x<100 :\n",
        "  print(\"failed\") \n",
        "if x==100 :\n",
        "  print(\"just pass\")  "
      ],
      "metadata": {
        "colab": {
          "base_uri": "https://localhost:8080/"
        },
        "id": "KyWiSGvr6QNM",
        "outputId": "f90c5f83-37cb-441d-83d5-70cc036de5c7"
      },
      "execution_count": 18,
      "outputs": [
        {
          "output_type": "stream",
          "name": "stdout",
          "text": [
            "enter your marks 100\n",
            "just pass\n"
          ]
        }
      ]
    },
    {
      "cell_type": "code",
      "source": [
        "x=int(input(\"enter the salary\"))\n",
        "if x>250000 :\n",
        "  print(\"taxable\")\n",
        "  print(x*10/100)\n",
        "  if x<250000 :\n",
        "    print(\"no tax\")\n"
      ],
      "metadata": {
        "colab": {
          "base_uri": "https://localhost:8080/"
        },
        "id": "d1En-7GL_RfI",
        "outputId": "bda2d51a-00ae-4a9e-babd-9aee6e463d43"
      },
      "execution_count": 21,
      "outputs": [
        {
          "output_type": "stream",
          "name": "stdout",
          "text": [
            "enter the salary260000\n",
            "taxable\n",
            "26000.0\n"
          ]
        }
      ]
    },
    {
      "cell_type": "code",
      "source": [
        ""
      ],
      "metadata": {
        "id": "P-ztjUI_E0yR"
      },
      "execution_count": 21,
      "outputs": []
    }
  ]
}